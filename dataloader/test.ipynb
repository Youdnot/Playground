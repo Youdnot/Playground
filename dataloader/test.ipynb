{
 "cells": [
  {
   "cell_type": "code",
   "execution_count": 1,
   "metadata": {},
   "outputs": [],
   "source": [
    "import fiftyone as fo\n",
    "import fiftyone.zoo as foz\n",
    "import ffmpeg"
   ]
  },
  {
   "cell_type": "code",
   "execution_count": 2,
   "metadata": {},
   "outputs": [
    {
     "name": "stdout",
     "output_type": "stream",
     "text": [
      "Downloading split 'validation' to 'C:\\Users\\joeyz\\fiftyone\\kinetics-400\\validation' if necessary\n",
      "Downloading videos from YouTube...\n",
      "Failed to download video 'https://www.youtube.com/watch?v=ZDqjye955e0': <urlopen error [WinError 10060] 由于连接方在一段时间后没有正确答复或连接的主机没有反应，连接尝试失败。>\n",
      "Failed to download video 'https://www.youtube.com/watch?v=9OZhQqMhX50': <urlopen error [WinError 10060] 由于连接方在一段时间后没有正确答复或连接的主机没有反应，连接尝试失败。>\n",
      "Failed to download video 'https://www.youtube.com/watch?v=JQedzNMkCuY': <urlopen error [WinError 10060] 由于连接方在一段时间后没有正确答复或连接的主机没有反应，连接尝试失败。>\n",
      "Failed to download video 'https://www.youtube.com/watch?v=DOfcxkAM9Y0': <urlopen error [WinError 10060] 由于连接方在一段时间后没有正确答复或连接的主机没有反应，连接尝试失败。>\n",
      "Failed to download video 'https://www.youtube.com/watch?v=2932HmrpFmM': <urlopen error [WinError 10060] 由于连接方在一段时间后没有正确答复或连接的主机没有反应，连接尝试失败。>\n",
      "Failed to download video 'https://www.youtube.com/watch?v=oltwUQQ6OlA': <urlopen error [WinError 10060] 由于连接方在一段时间后没有正确答复或连接的主机没有反应，连接尝试失败。>\n",
      "Failed to download video 'https://www.youtube.com/watch?v=i59Klm1derQ': <urlopen error [WinError 10060] 由于连接方在一段时间后没有正确答复或连接的主机没有反应，连接尝试失败。>\n",
      "Failed to download video 'https://www.youtube.com/watch?v=eF5pAKb8V_A': <urlopen error [WinError 10060] 由于连接方在一段时间后没有正确答复或连接的主机没有反应，连接尝试失败。>\n",
      "Failed to download video 'https://www.youtube.com/watch?v=qtvNszjAN_o': <urlopen error [WinError 10060] 由于连接方在一段时间后没有正确答复或连接的主机没有反应，连接尝试失败。>\n",
      "Failed to download video 'https://www.youtube.com/watch?v=nJsVBPjmnDs': <urlopen error [WinError 10060] 由于连接方在一段时间后没有正确答复或连接的主机没有反应，连接尝试失败。>\n",
      "Failed to download video 'https://www.youtube.com/watch?v=SZfgBg08fgQ': <urlopen error [WinError 10060] 由于连接方在一段时间后没有正确答复或连接的主机没有反应，连接尝试失败。>\n",
      "Failed to download video 'https://www.youtube.com/watch?v=E3bHu9dSij8': <urlopen error [WinError 10060] 由于连接方在一段时间后没有正确答复或连接的主机没有反应，连接尝试失败。>\n",
      "Failed to download video 'https://www.youtube.com/watch?v=iMgBF9VQW5Y': <urlopen error [WinError 10060] 由于连接方在一段时间后没有正确答复或连接的主机没有反应，连接尝试失败。>\n",
      "Failed to download video 'https://www.youtube.com/watch?v=NYPx8fE0w00': <urlopen error [WinError 10060] 由于连接方在一段时间后没有正确答复或连接的主机没有反应，连接尝试失败。>\n",
      "Failed to download video 'https://www.youtube.com/watch?v=sE59_4mzqxc': <urlopen error [WinError 10060] 由于连接方在一段时间后没有正确答复或连接的主机没有反应，连接尝试失败。>\n",
      "Failed to download video 'https://www.youtube.com/watch?v=N8uF2aq7lm8': <urlopen error [WinError 10060] 由于连接方在一段时间后没有正确答复或连接的主机没有反应，连接尝试失败。>\n",
      "Failed to download video 'https://www.youtube.com/watch?v=sz0h2jDiDUI': <urlopen error [WinError 10060] 由于连接方在一段时间后没有正确答复或连接的主机没有反应，连接尝试失败。>\n",
      "Failed to download video 'https://www.youtube.com/watch?v=-FSQTAHxmpg': <urlopen error [WinError 10060] 由于连接方在一段时间后没有正确答复或连接的主机没有反应，连接尝试失败。>\n",
      "Failed to download video 'https://www.youtube.com/watch?v=NNlXT64FyCY': <urlopen error [WinError 10060] 由于连接方在一段时间后没有正确答复或连接的主机没有反应，连接尝试失败。>\n",
      "Failed to download video 'https://www.youtube.com/watch?v=BzRbZis9ZsA': <urlopen error [WinError 10060] 由于连接方在一段时间后没有正确答复或连接的主机没有反应，连接尝试失败。>\n",
      "Failed to download video 'https://www.youtube.com/watch?v=0TPxcKUNxbA': <urlopen error [WinError 10060] 由于连接方在一段时间后没有正确答复或连接的主机没有反应，连接尝试失败。>\n",
      "   0% ||-------------------|  0/10 [7.5m elapsed, ? remaining, ? videos/s]  "
     ]
    }
   ],
   "source": [
    "#\n",
    "# Load 10 random samples from the validation split\n",
    "#\n",
    "# Only the required videos will be downloaded (if necessary)\n",
    "#\n",
    "\n",
    "dataset = foz.load_zoo_dataset(\n",
    "    \"kinetics-400\",\n",
    "    split=\"validation\",\n",
    "    max_samples=10,\n",
    "    shuffle=True,\n",
    ")\n",
    "\n",
    "session = fo.launch_app(dataset)"
   ]
  },
  {
   "cell_type": "code",
   "execution_count": null,
   "metadata": {},
   "outputs": [],
   "source": [
    "#\n",
    "# Load 10 samples from the validation split that\n",
    "# contain the actions \"springboard diving\" and \"surfing water\"\n",
    "#\n",
    "# Videos that contain all `classes` will be prioritized first, followed\n",
    "# by videos that contain at least one of the required `classes`. If\n",
    "# there are not enough videos matching `classes` in the split to meet\n",
    "# `max_samples`, only the available videos will be loaded.\n",
    "#\n",
    "# Videos will only be downloaded if necessary\n",
    "#\n",
    "# Subsequent partial loads of the validation split will never require\n",
    "# downloading any videos\n",
    "#\n",
    "\n",
    "dataset = foz.load_zoo_dataset(\n",
    "    \"kinetics-400\",\n",
    "    split=\"validation\",\n",
    "    classes=[\"springboard diving\", \"surfing water\"],\n",
    "    max_samples=10,\n",
    ")\n",
    "\n",
    "session.dataset = dataset"
   ]
  }
 ],
 "metadata": {
  "kernelspec": {
   "display_name": ".venv",
   "language": "python",
   "name": "python3"
  },
  "language_info": {
   "codemirror_mode": {
    "name": "ipython",
    "version": 3
   },
   "file_extension": ".py",
   "mimetype": "text/x-python",
   "name": "python",
   "nbconvert_exporter": "python",
   "pygments_lexer": "ipython3",
   "version": "3.11.6"
  }
 },
 "nbformat": 4,
 "nbformat_minor": 2
}
