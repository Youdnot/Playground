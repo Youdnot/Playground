{
 "cells": [
  {
   "cell_type": "code",
   "execution_count": 1,
   "metadata": {},
   "outputs": [],
   "source": [
    "import pypdf\n",
    "import sys"
   ]
  },
  {
   "cell_type": "code",
   "execution_count": null,
   "metadata": {},
   "outputs": [],
   "source": [
    "# 读取输入文档\n",
    "filename = input(\"Please input the PDF file name:\")\n",
    "\n",
    "# 识别粘贴文本是否带有拓展名并处理为纯标题\n",
    "if \".pdf\" in filename:\n",
    "    filename = filename[:-4]\n",
    "else:\n",
    "    filename = filename\n",
    "format = \".pdf\"\n",
    "full_filename = f\"{filename}{format}\"\n",
    "input = open(full_filename, \"rb\")"
   ]
  },
  {
   "cell_type": "code",
   "execution_count": null,
   "metadata": {},
   "outputs": [],
   "source": [
    "# 初始化writer\n",
    "writer = pypdf.PdfWriter()\n",
    "writer.append(input)\n",
    "\n",
    "# 搜索标题\n",
    "reader = pypdf.PdfReader()\n",
    "number_of_pages = len(reader.pages)\n",
    "page = reader.pages[0]\n",
    "text = page.extract_text()\n",
    "\n",
    "# 添加书签\n",
    "writer.add_outline_item(title=\"Test\", page_number=5, parent=None)\n",
    "\n",
    "# 写入输出文档\n",
    "output = open(f\"{file}_addoutline{format}\", \"wb\")\n",
    "writer.write(output)\n",
    "\n",
    "# 关闭文件\n",
    "writer.close()\n",
    "output.close()\n",
    "\n",
    "print('pypdf.__version__:', pypdf.__version__)\n",
    "print('sys.version:', sys.version)\n",
    "\n",
    "pass"
   ]
  }
 ],
 "metadata": {
  "kernelspec": {
   "display_name": "Python 3",
   "language": "python",
   "name": "python3"
  },
  "language_info": {
   "codemirror_mode": {
    "name": "ipython",
    "version": 3
   },
   "file_extension": ".py",
   "mimetype": "text/x-python",
   "name": "python",
   "nbconvert_exporter": "python",
   "pygments_lexer": "ipython3",
   "version": "3.11.4"
  }
 },
 "nbformat": 4,
 "nbformat_minor": 2
}
