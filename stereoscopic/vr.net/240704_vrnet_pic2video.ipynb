{
 "cells": [
  {
   "cell_type": "code",
   "execution_count": 1,
   "metadata": {},
   "outputs": [],
   "source": [
    "import os\n",
    "import time\n",
    "import random\n",
    "# import numpy as np\n",
    "import pandas as pd\n",
    "\n",
    "import cv2 as cv\n",
    "# import pygwalker as pyg"
   ]
  },
  {
   "cell_type": "markdown",
   "metadata": {},
   "source": [
    "## 路径初始化"
   ]
  },
  {
   "cell_type": "code",
   "execution_count": 2,
   "metadata": {},
   "outputs": [
    {
     "name": "stdout",
     "output_type": "stream",
     "text": [
      "['P1 VRLOG-5041702']\n"
     ]
    }
   ],
   "source": [
    "# dataset_folder = 'vr.net'\n",
    "# projects_folders = [name for name in os.listdir(dataset_folder)]\n",
    "\n",
    "project_folder = 'BeatSaber'\n",
    "\n",
    "# 获取所有子文件夹的名称\n",
    "sub_experiment_folders = [name for name in os.listdir(project_folder)]\n",
    "\n",
    "print(sub_experiment_folders)"
   ]
  },
  {
   "cell_type": "code",
   "execution_count": 3,
   "metadata": {},
   "outputs": [
    {
     "name": "stdout",
     "output_type": "stream",
     "text": [
      "BeatSaber/P1 VRLOG-5041702\n"
     ]
    }
   ],
   "source": [
    "# for sub in sub_experiment_folders:\n",
    "#     data_path = f\"{project_folder}/{sub}\"\n",
    "\n",
    "data_path = f\"{project_folder}/{sub_experiment_folders[0]}\"\n",
    "print(data_path)"
   ]
  },
  {
   "cell_type": "markdown",
   "metadata": {},
   "source": [
    "## 初始数据读取"
   ]
  },
  {
   "cell_type": "code",
   "execution_count": 4,
   "metadata": {},
   "outputs": [],
   "source": [
    "def list_pic_files(path):\n",
    "    '''\n",
    "    读取指定目录下所有JPEG图片的名称，并返回它们的数量和名称。\n",
    "    '''\n",
    "    jpg_files = [f for f in os.listdir(path)]    # if f.endswith('.jpg')\n",
    "    jpg_dict = {'File_Name': jpg_files}\n",
    "    df = pd.DataFrame(jpg_dict)\n",
    "\n",
    "    # 添加数据类型和文件类型两列\n",
    "    df['Data_Type'] = df['File_Name'].apply(lambda x: x[0])\n",
    "    df['File_Type'] = df['File_Name'].apply(lambda x: x[-3:])\n",
    "\n",
    "    # 统计类型\n",
    "    statistic_dic = {}\n",
    "    for value in df['Data_Type'].unique():\n",
    "        count = df[df['Data_Type'] == value].shape[0]\n",
    "        statistic_dic[value] = [count]\n",
    "\n",
    "    statistic_df = pd.DataFrame(statistic_dic)\n",
    "\n",
    "    return df, statistic_df"
   ]
  },
  {
   "cell_type": "code",
   "execution_count": 11,
   "metadata": {},
   "outputs": [
    {
     "data": {
      "text/html": [
       "<div>\n",
       "<style scoped>\n",
       "    .dataframe tbody tr th:only-of-type {\n",
       "        vertical-align: middle;\n",
       "    }\n",
       "\n",
       "    .dataframe tbody tr th {\n",
       "        vertical-align: top;\n",
       "    }\n",
       "\n",
       "    .dataframe thead th {\n",
       "        text-align: right;\n",
       "    }\n",
       "</style>\n",
       "<table border=\"1\" class=\"dataframe\">\n",
       "  <thead>\n",
       "    <tr style=\"text-align: right;\">\n",
       "      <th></th>\n",
       "      <th>d</th>\n",
       "      <th>g</th>\n",
       "      <th>m</th>\n",
       "      <th>s</th>\n",
       "      <th>v</th>\n",
       "    </tr>\n",
       "  </thead>\n",
       "  <tbody>\n",
       "    <tr>\n",
       "      <th>0</th>\n",
       "      <td>10346</td>\n",
       "      <td>1</td>\n",
       "      <td>10346</td>\n",
       "      <td>10346</td>\n",
       "      <td>1</td>\n",
       "    </tr>\n",
       "  </tbody>\n",
       "</table>\n",
       "</div>"
      ],
      "text/plain": [
       "       d  g      m      s  v\n",
       "0  10346  1  10346  10346  1"
      ]
     },
     "execution_count": 11,
     "metadata": {},
     "output_type": "execute_result"
    }
   ],
   "source": [
    "pic_df, statistic_df = list_pic_files(data_path)\n",
    "statistic_df.head()"
   ]
  },
  {
   "cell_type": "markdown",
   "metadata": {},
   "source": [
    "## 不同类型数据分离"
   ]
  },
  {
   "cell_type": "code",
   "execution_count": 6,
   "metadata": {},
   "outputs": [],
   "source": [
    "def extract_img_number(df: pd.DataFrame):\n",
    "    df['File_Number'] = df.loc[:, ('File_Name')].apply(lambda x: int(x[1:x.find('.')]))\n",
    "    df.sort_values(by='File_Number', inplace=True)\n",
    "    df.reset_index(drop=True, inplace=True)\n",
    "    return df"
   ]
  },
  {
   "cell_type": "code",
   "execution_count": 7,
   "metadata": {},
   "outputs": [
    {
     "name": "stderr",
     "output_type": "stream",
     "text": [
      "C:\\Users\\joeyz\\AppData\\Local\\Temp\\ipykernel_31016\\470591858.py:2: SettingWithCopyWarning: \n",
      "A value is trying to be set on a copy of a slice from a DataFrame.\n",
      "Try using .loc[row_indexer,col_indexer] = value instead\n",
      "\n",
      "See the caveats in the documentation: https://pandas.pydata.org/pandas-docs/stable/user_guide/indexing.html#returning-a-view-versus-a-copy\n",
      "  df['File_Number'] = df.loc[:, ('File_Name')].apply(lambda x: int(x[1:x.find('.')]))\n",
      "C:\\Users\\joeyz\\AppData\\Local\\Temp\\ipykernel_31016\\470591858.py:3: SettingWithCopyWarning: \n",
      "A value is trying to be set on a copy of a slice from a DataFrame\n",
      "\n",
      "See the caveats in the documentation: https://pandas.pydata.org/pandas-docs/stable/user_guide/indexing.html#returning-a-view-versus-a-copy\n",
      "  df.sort_values(by='File_Number', inplace=True)\n"
     ]
    },
    {
     "data": {
      "text/html": [
       "<div>\n",
       "<style scoped>\n",
       "    .dataframe tbody tr th:only-of-type {\n",
       "        vertical-align: middle;\n",
       "    }\n",
       "\n",
       "    .dataframe tbody tr th {\n",
       "        vertical-align: top;\n",
       "    }\n",
       "\n",
       "    .dataframe thead th {\n",
       "        text-align: right;\n",
       "    }\n",
       "</style>\n",
       "<table border=\"1\" class=\"dataframe\">\n",
       "  <thead>\n",
       "    <tr style=\"text-align: right;\">\n",
       "      <th></th>\n",
       "      <th>File_Name</th>\n",
       "      <th>Data_Type</th>\n",
       "      <th>File_Type</th>\n",
       "      <th>File_Number</th>\n",
       "    </tr>\n",
       "  </thead>\n",
       "  <tbody>\n",
       "    <tr>\n",
       "      <th>0</th>\n",
       "      <td>d3.jpg</td>\n",
       "      <td>d</td>\n",
       "      <td>jpg</td>\n",
       "      <td>3</td>\n",
       "    </tr>\n",
       "    <tr>\n",
       "      <th>1</th>\n",
       "      <td>d6.jpg</td>\n",
       "      <td>d</td>\n",
       "      <td>jpg</td>\n",
       "      <td>6</td>\n",
       "    </tr>\n",
       "    <tr>\n",
       "      <th>2</th>\n",
       "      <td>d9.jpg</td>\n",
       "      <td>d</td>\n",
       "      <td>jpg</td>\n",
       "      <td>9</td>\n",
       "    </tr>\n",
       "    <tr>\n",
       "      <th>3</th>\n",
       "      <td>d12.jpg</td>\n",
       "      <td>d</td>\n",
       "      <td>jpg</td>\n",
       "      <td>12</td>\n",
       "    </tr>\n",
       "    <tr>\n",
       "      <th>4</th>\n",
       "      <td>d15.jpg</td>\n",
       "      <td>d</td>\n",
       "      <td>jpg</td>\n",
       "      <td>15</td>\n",
       "    </tr>\n",
       "    <tr>\n",
       "      <th>...</th>\n",
       "      <td>...</td>\n",
       "      <td>...</td>\n",
       "      <td>...</td>\n",
       "      <td>...</td>\n",
       "    </tr>\n",
       "    <tr>\n",
       "      <th>10341</th>\n",
       "      <td>d31026.jpg</td>\n",
       "      <td>d</td>\n",
       "      <td>jpg</td>\n",
       "      <td>31026</td>\n",
       "    </tr>\n",
       "    <tr>\n",
       "      <th>10342</th>\n",
       "      <td>d31029.jpg</td>\n",
       "      <td>d</td>\n",
       "      <td>jpg</td>\n",
       "      <td>31029</td>\n",
       "    </tr>\n",
       "    <tr>\n",
       "      <th>10343</th>\n",
       "      <td>d31032.jpg</td>\n",
       "      <td>d</td>\n",
       "      <td>jpg</td>\n",
       "      <td>31032</td>\n",
       "    </tr>\n",
       "    <tr>\n",
       "      <th>10344</th>\n",
       "      <td>d31035.jpg</td>\n",
       "      <td>d</td>\n",
       "      <td>jpg</td>\n",
       "      <td>31035</td>\n",
       "    </tr>\n",
       "    <tr>\n",
       "      <th>10345</th>\n",
       "      <td>d31038.jpg</td>\n",
       "      <td>d</td>\n",
       "      <td>jpg</td>\n",
       "      <td>31038</td>\n",
       "    </tr>\n",
       "  </tbody>\n",
       "</table>\n",
       "<p>10346 rows × 4 columns</p>\n",
       "</div>"
      ],
      "text/plain": [
       "        File_Name Data_Type File_Type  File_Number\n",
       "0          d3.jpg         d       jpg            3\n",
       "1          d6.jpg         d       jpg            6\n",
       "2          d9.jpg         d       jpg            9\n",
       "3         d12.jpg         d       jpg           12\n",
       "4         d15.jpg         d       jpg           15\n",
       "...           ...       ...       ...          ...\n",
       "10341  d31026.jpg         d       jpg        31026\n",
       "10342  d31029.jpg         d       jpg        31029\n",
       "10343  d31032.jpg         d       jpg        31032\n",
       "10344  d31035.jpg         d       jpg        31035\n",
       "10345  d31038.jpg         d       jpg        31038\n",
       "\n",
       "[10346 rows x 4 columns]"
      ]
     },
     "execution_count": 7,
     "metadata": {},
     "output_type": "execute_result"
    }
   ],
   "source": [
    "depth_df = df[df['Data_Type'] == 'd']\n",
    "depth_df = extract_img_number(depth_df)\n",
    "depth_df"
   ]
  },
  {
   "cell_type": "code",
   "execution_count": 8,
   "metadata": {},
   "outputs": [
    {
     "name": "stderr",
     "output_type": "stream",
     "text": [
      "C:\\Users\\joeyz\\AppData\\Local\\Temp\\ipykernel_31016\\470591858.py:2: SettingWithCopyWarning: \n",
      "A value is trying to be set on a copy of a slice from a DataFrame.\n",
      "Try using .loc[row_indexer,col_indexer] = value instead\n",
      "\n",
      "See the caveats in the documentation: https://pandas.pydata.org/pandas-docs/stable/user_guide/indexing.html#returning-a-view-versus-a-copy\n",
      "  df['File_Number'] = df.loc[:, ('File_Name')].apply(lambda x: int(x[1:x.find('.')]))\n",
      "C:\\Users\\joeyz\\AppData\\Local\\Temp\\ipykernel_31016\\470591858.py:3: SettingWithCopyWarning: \n",
      "A value is trying to be set on a copy of a slice from a DataFrame\n",
      "\n",
      "See the caveats in the documentation: https://pandas.pydata.org/pandas-docs/stable/user_guide/indexing.html#returning-a-view-versus-a-copy\n",
      "  df.sort_values(by='File_Number', inplace=True)\n"
     ]
    },
    {
     "data": {
      "text/html": [
       "<div>\n",
       "<style scoped>\n",
       "    .dataframe tbody tr th:only-of-type {\n",
       "        vertical-align: middle;\n",
       "    }\n",
       "\n",
       "    .dataframe tbody tr th {\n",
       "        vertical-align: top;\n",
       "    }\n",
       "\n",
       "    .dataframe thead th {\n",
       "        text-align: right;\n",
       "    }\n",
       "</style>\n",
       "<table border=\"1\" class=\"dataframe\">\n",
       "  <thead>\n",
       "    <tr style=\"text-align: right;\">\n",
       "      <th></th>\n",
       "      <th>File_Name</th>\n",
       "      <th>Data_Type</th>\n",
       "      <th>File_Type</th>\n",
       "      <th>File_Number</th>\n",
       "    </tr>\n",
       "  </thead>\n",
       "  <tbody>\n",
       "    <tr>\n",
       "      <th>0</th>\n",
       "      <td>s3.jpg</td>\n",
       "      <td>s</td>\n",
       "      <td>jpg</td>\n",
       "      <td>3</td>\n",
       "    </tr>\n",
       "    <tr>\n",
       "      <th>1</th>\n",
       "      <td>s6.jpg</td>\n",
       "      <td>s</td>\n",
       "      <td>jpg</td>\n",
       "      <td>6</td>\n",
       "    </tr>\n",
       "    <tr>\n",
       "      <th>2</th>\n",
       "      <td>s9.jpg</td>\n",
       "      <td>s</td>\n",
       "      <td>jpg</td>\n",
       "      <td>9</td>\n",
       "    </tr>\n",
       "    <tr>\n",
       "      <th>3</th>\n",
       "      <td>s12.jpg</td>\n",
       "      <td>s</td>\n",
       "      <td>jpg</td>\n",
       "      <td>12</td>\n",
       "    </tr>\n",
       "    <tr>\n",
       "      <th>4</th>\n",
       "      <td>s15.jpg</td>\n",
       "      <td>s</td>\n",
       "      <td>jpg</td>\n",
       "      <td>15</td>\n",
       "    </tr>\n",
       "    <tr>\n",
       "      <th>...</th>\n",
       "      <td>...</td>\n",
       "      <td>...</td>\n",
       "      <td>...</td>\n",
       "      <td>...</td>\n",
       "    </tr>\n",
       "    <tr>\n",
       "      <th>10341</th>\n",
       "      <td>s31026.jpg</td>\n",
       "      <td>s</td>\n",
       "      <td>jpg</td>\n",
       "      <td>31026</td>\n",
       "    </tr>\n",
       "    <tr>\n",
       "      <th>10342</th>\n",
       "      <td>s31029.jpg</td>\n",
       "      <td>s</td>\n",
       "      <td>jpg</td>\n",
       "      <td>31029</td>\n",
       "    </tr>\n",
       "    <tr>\n",
       "      <th>10343</th>\n",
       "      <td>s31032.jpg</td>\n",
       "      <td>s</td>\n",
       "      <td>jpg</td>\n",
       "      <td>31032</td>\n",
       "    </tr>\n",
       "    <tr>\n",
       "      <th>10344</th>\n",
       "      <td>s31035.jpg</td>\n",
       "      <td>s</td>\n",
       "      <td>jpg</td>\n",
       "      <td>31035</td>\n",
       "    </tr>\n",
       "    <tr>\n",
       "      <th>10345</th>\n",
       "      <td>s31038.jpg</td>\n",
       "      <td>s</td>\n",
       "      <td>jpg</td>\n",
       "      <td>31038</td>\n",
       "    </tr>\n",
       "  </tbody>\n",
       "</table>\n",
       "<p>10346 rows × 4 columns</p>\n",
       "</div>"
      ],
      "text/plain": [
       "        File_Name Data_Type File_Type  File_Number\n",
       "0          s3.jpg         s       jpg            3\n",
       "1          s6.jpg         s       jpg            6\n",
       "2          s9.jpg         s       jpg            9\n",
       "3         s12.jpg         s       jpg           12\n",
       "4         s15.jpg         s       jpg           15\n",
       "...           ...       ...       ...          ...\n",
       "10341  s31026.jpg         s       jpg        31026\n",
       "10342  s31029.jpg         s       jpg        31029\n",
       "10343  s31032.jpg         s       jpg        31032\n",
       "10344  s31035.jpg         s       jpg        31035\n",
       "10345  s31038.jpg         s       jpg        31038\n",
       "\n",
       "[10346 rows x 4 columns]"
      ]
     },
     "execution_count": 8,
     "metadata": {},
     "output_type": "execute_result"
    }
   ],
   "source": [
    "s_df = df[df['Data_Type'] == 's']\n",
    "s_df = extract_img_number(s_df)\n",
    "s_df"
   ]
  },
  {
   "cell_type": "markdown",
   "metadata": {},
   "source": [
    "## 视频写入"
   ]
  },
  {
   "cell_type": "code",
   "execution_count": 9,
   "metadata": {},
   "outputs": [
    {
     "name": "stdout",
     "output_type": "stream",
     "text": [
      "The First Image: s3.jpg, Shape: (1042, 2016, 3)\n"
     ]
    }
   ],
   "source": [
    "begin_img_name = s_df['File_Name'][0]\n",
    "img = cv.imread(f\"{data_path}/{begin_img_name}\")\n",
    "height, width, channels = img.shape\n",
    "print(f\"The First Image: {begin_img_name}, Shape: {img.shape}\")"
   ]
  },
  {
   "cell_type": "code",
   "execution_count": null,
   "metadata": {},
   "outputs": [],
   "source": [
    "def create_video_from_images(image_df, output_file, fps, width, height):\n",
    "    \"\"\"\n",
    "    使用OpenCV按顺序从图片列表中合成视频。\n",
    "    \n",
    "    :param image_df: 包含图片文件名的DataFrame。\n",
    "    :param output_file: 输出视频文件的路径。\n",
    "    :param fps: 输出视频的帧率。\n",
    "    :param width: 输出视频的宽度。\n",
    "    :param height: 输出视频的高度。\n",
    "    \"\"\"\n",
    "    # 定义视频编码器和创建VideoWriter对象\n",
    "    fourcc = cv.VideoWriter_fourcc(*'mp4v')\n",
    "    out = cv.VideoWriter(output_file, fourcc, fps, (width, height))\n",
    "    \n",
    "    for _, row in image_df.iterrows():\n",
    "        img_path = row['File_Name']  # 假设DataFrame中的列名为'filename'\n",
    "        img = cv.imread(f\"{data_path}/{img_path}\")\n",
    "        if img is not None:\n",
    "            # 调整图片大小以匹配输出视频的尺寸\n",
    "            resized_img = cv.resize(img, (width, height))\n",
    "            out.write(resized_img)\n",
    "        else:\n",
    "            print(f\"Warning: Could not read image {img_path}\")\n",
    "    \n",
    "    # 释放资源\n",
    "    out.release()\n",
    "    print(f\"Video saved to {output_file}\")"
   ]
  },
  {
   "cell_type": "code",
   "execution_count": null,
   "metadata": {},
   "outputs": [],
   "source": [
    "# 对两大类图片数据分别生成视频\n",
    "create_video_from_images(s_df, 's_output_video.mp4', fps=30, width=width, height=height)\n",
    "create_video_from_images(depth_df, 'd_output_video.mp4', fps=30, width=width, height=height)"
   ]
  }
 ],
 "metadata": {
  "kernelspec": {
   "display_name": ".venv",
   "language": "python",
   "name": "python3"
  },
  "language_info": {
   "codemirror_mode": {
    "name": "ipython",
    "version": 3
   },
   "file_extension": ".py",
   "mimetype": "text/x-python",
   "name": "python",
   "nbconvert_exporter": "python",
   "pygments_lexer": "ipython3",
   "version": "3.11.4"
  }
 },
 "nbformat": 4,
 "nbformat_minor": 2
}
