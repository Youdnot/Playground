{
 "cells": [
  {
   "cell_type": "code",
   "execution_count": null,
   "metadata": {},
   "outputs": [],
   "source": [
    "import os\n",
    "import pandas as pd"
   ]
  },
  {
   "cell_type": "code",
   "execution_count": null,
   "metadata": {},
   "outputs": [],
   "source": [
    "# 指定存储所有视频元数据的文件夹路径\n",
    "metadata_folder = \"video_metadata\"\n",
    "\n",
    "all_video_metadata_dict = {}\n",
    "\n",
    "current_video_metadata_dict = {}\n",
    "\n",
    "sub_atribs = [\"General\", \"Video\", \"Audio\"]\n",
    "\n",
    "current_sub_attrib = None"
   ]
  },
  {
   "cell_type": "code",
   "execution_count": null,
   "metadata": {},
   "outputs": [],
   "source": [
    "# 遍历元数据文件夹中的所有文件\n",
    "for file_name in os.listdir(metadata_folder):\n",
    "    # 仅处理txt文件\n",
    "    if file_name.endswith(\".txt\"):\n",
    "        file_path = os.path.join(metadata_folder, file_name)\n",
    "        video_name = file_name[:-4]\n",
    "\n",
    "        with open(f\"{file_path}\", \"r\") as f:\n",
    "            text = f.readlines()\n",
    "\n",
    "            current_video_metadata_dict = {}\n",
    "\n",
    "            for line in text:\n",
    "                line = line.strip()\n",
    "                if line in sub_atribs:\n",
    "                    # 当读取到属性为预定义的子属性时，设置当前正在读取的子属性\n",
    "                    current_sub_attrib = line\n",
    "\n",
    "                elif current_sub_attrib and line:  # 非空字符串视为True\n",
    "                    key, value = line.split(\":\", 1)\n",
    "                    new_key = f\"{current_sub_attrib}_{key.strip()}\"    # 不同子类中有时会有重复名称的属性，为了避免重复，将属性名加上子属性名前缀\n",
    "                    current_video_metadata_dict[new_key] = value.strip()\n",
    "\n",
    "                elif current_sub_attrib and not line:  \n",
    "                    # 如果当前行为空，则将当前子属性置为None，表示结束当前子属性的读取\n",
    "                    current_sub_attrib = None\n",
    "\n",
    "            all_video_metadata_dict[f\"{video_name}\"] = current_video_metadata_dict\n",
    "            print(f\"Finsihsed reading {video_name}\")"
   ]
  },
  {
   "cell_type": "code",
   "execution_count": null,
   "metadata": {},
   "outputs": [],
   "source": [
    "# 将元数据列表转换为DataFrame对象\n",
    "df = pd.DataFrame(all_video_metadata_dict)\n",
    "\n",
    "df.head()"
   ]
  },
  {
   "cell_type": "code",
   "execution_count": null,
   "metadata": {},
   "outputs": [],
   "source": [
    "print(df.shape)\n",
    "# print(df.iloc[4,0])"
   ]
  },
  {
   "cell_type": "code",
   "execution_count": null,
   "metadata": {},
   "outputs": [],
   "source": [
    "# 取帧数敏感参数分析\n",
    "para_list = [\"General_Duration\",\n",
    "             \"General_Frame rate\",\n",
    "             \"Video_Duration\",\n",
    "             \"Video_Source duration\",\n",
    "             \"Video_Width\",\n",
    "             \"Video_Height\",\n",
    "             \"Video_Frame rate mode\",\n",
    "             \"Video_Frame rate\"]\n",
    "\n",
    "fps_df = df.loc[para_list, :]\n",
    "print(fps_df.shape)\n",
    "fps_df.head()"
   ]
  },
  {
   "cell_type": "code",
   "execution_count": null,
   "metadata": {},
   "outputs": [],
   "source": []
  }
 ],
 "metadata": {
  "kernelspec": {
   "display_name": ".venv",
   "language": "python",
   "name": "python3"
  },
  "language_info": {
   "codemirror_mode": {
    "name": "ipython",
    "version": 3
   },
   "file_extension": ".py",
   "mimetype": "text/x-python",
   "name": "python",
   "nbconvert_exporter": "python",
   "pygments_lexer": "ipython3",
   "version": "3.11.6"
  }
 },
 "nbformat": 4,
 "nbformat_minor": 2
}
